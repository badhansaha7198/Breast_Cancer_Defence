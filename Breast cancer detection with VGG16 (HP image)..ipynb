{
 "cells": [
  {
   "cell_type": "code",
   "execution_count": 1,
   "id": "ac2917c3",
   "metadata": {},
   "outputs": [],
   "source": [
    "import tensorflow as tf\n",
    "import os\n",
    "import numpy as np"
   ]
  },
  {
   "cell_type": "code",
   "execution_count": 2,
   "id": "a1805bfa",
   "metadata": {},
   "outputs": [],
   "source": [
    "dataset = r\"G:/breast_cancer\""
   ]
  },
  {
   "cell_type": "code",
   "execution_count": 3,
   "id": "c6e39539",
   "metadata": {},
   "outputs": [],
   "source": [
    "IMAGE_SIZE = 224\n",
    "BATCH_SIZE = 32\n",
    "\n",
    "train_data = tf.keras.preprocessing.image.ImageDataGenerator(\n",
    "    rescale = 1./255,\n",
    "    validation_split = 0.2\n",
    ")\n",
    "\n",
    "validation_data = tf.keras.preprocessing.image.ImageDataGenerator(\n",
    "    rescale = 1./255,\n",
    "    validation_split = 0.2\n",
    ")"
   ]
  },
  {
   "cell_type": "code",
   "execution_count": 4,
   "id": "2ee60e14",
   "metadata": {},
   "outputs": [
    {
     "name": "stdout",
     "output_type": "stream",
     "text": [
      "Found 6342 images belonging to 2 classes.\n",
      "Found 1584 images belonging to 2 classes.\n"
     ]
    }
   ],
   "source": [
    "train_gen = train_data.flow_from_directory(\n",
    "    dataset,\n",
    "    target_size = (IMAGE_SIZE, IMAGE_SIZE),\n",
    "    batch_size = BATCH_SIZE,\n",
    "    subset='training'\n",
    ") \n",
    "\n",
    "validation_gen = validation_data.flow_from_directory(\n",
    "    dataset,\n",
    "    target_size = (IMAGE_SIZE, IMAGE_SIZE),\n",
    "    batch_size=BATCH_SIZE,\n",
    "    subset='validation'\n",
    ") "
   ]
  },
  {
   "cell_type": "code",
   "execution_count": 5,
   "id": "d22e2a04",
   "metadata": {},
   "outputs": [],
   "source": [
    "from tensorflow.keras.layers import Input,Flatten,Dense\n",
    "from tensorflow.keras.models import Model\n",
    "from tensorflow.keras.applications.vgg16 import VGG16\n",
    "from tensorflow.keras.models import Sequential\n",
    "import matplotlib.pyplot as plt\n",
    "from glob import glob"
   ]
  },
  {
   "cell_type": "code",
   "execution_count": 6,
   "id": "04bedc64",
   "metadata": {},
   "outputs": [
    {
     "data": {
      "text/plain": [
       "<KerasTensor: shape=(None, 7, 7, 512) dtype=float32 (created by layer 'block5_pool')>"
      ]
     },
     "execution_count": 6,
     "metadata": {},
     "output_type": "execute_result"
    }
   ],
   "source": [
    "vgg = VGG16(\n",
    "    input_shape = (IMAGE_SIZE, IMAGE_SIZE, 3),\n",
    "    weights='imagenet',\n",
    "    include_top=False\n",
    ")\n",
    "vgg.output"
   ]
  },
  {
   "cell_type": "code",
   "execution_count": 8,
   "id": "573e9250",
   "metadata": {},
   "outputs": [],
   "source": [
    "for layer in vgg.layers:\n",
    "    layer.trainable=False"
   ]
  },
  {
   "cell_type": "code",
   "execution_count": 9,
   "id": "36728d6d",
   "metadata": {},
   "outputs": [
    {
     "name": "stdout",
     "output_type": "stream",
     "text": [
      "Model: \"model\"\n",
      "_________________________________________________________________\n",
      " Layer (type)                Output Shape              Param #   \n",
      "=================================================================\n",
      " input_1 (InputLayer)        [(None, 224, 224, 3)]     0         \n",
      "                                                                 \n",
      " block1_conv1 (Conv2D)       (None, 224, 224, 64)      1792      \n",
      "                                                                 \n",
      " block1_conv2 (Conv2D)       (None, 224, 224, 64)      36928     \n",
      "                                                                 \n",
      " block1_pool (MaxPooling2D)  (None, 112, 112, 64)      0         \n",
      "                                                                 \n",
      " block2_conv1 (Conv2D)       (None, 112, 112, 128)     73856     \n",
      "                                                                 \n",
      " block2_conv2 (Conv2D)       (None, 112, 112, 128)     147584    \n",
      "                                                                 \n",
      " block2_pool (MaxPooling2D)  (None, 56, 56, 128)       0         \n",
      "                                                                 \n",
      " block3_conv1 (Conv2D)       (None, 56, 56, 256)       295168    \n",
      "                                                                 \n",
      " block3_conv2 (Conv2D)       (None, 56, 56, 256)       590080    \n",
      "                                                                 \n",
      " block3_conv3 (Conv2D)       (None, 56, 56, 256)       590080    \n",
      "                                                                 \n",
      " block3_pool (MaxPooling2D)  (None, 28, 28, 256)       0         \n",
      "                                                                 \n",
      " block4_conv1 (Conv2D)       (None, 28, 28, 512)       1180160   \n",
      "                                                                 \n",
      " block4_conv2 (Conv2D)       (None, 28, 28, 512)       2359808   \n",
      "                                                                 \n",
      " block4_conv3 (Conv2D)       (None, 28, 28, 512)       2359808   \n",
      "                                                                 \n",
      " block4_pool (MaxPooling2D)  (None, 14, 14, 512)       0         \n",
      "                                                                 \n",
      " block5_conv1 (Conv2D)       (None, 14, 14, 512)       2359808   \n",
      "                                                                 \n",
      " block5_conv2 (Conv2D)       (None, 14, 14, 512)       2359808   \n",
      "                                                                 \n",
      " block5_conv3 (Conv2D)       (None, 14, 14, 512)       2359808   \n",
      "                                                                 \n",
      " block5_pool (MaxPooling2D)  (None, 7, 7, 512)         0         \n",
      "                                                                 \n",
      " flatten (Flatten)           (None, 25088)             0         \n",
      "                                                                 \n",
      " dense (Dense)               (None, 2)                 50178     \n",
      "                                                                 \n",
      "=================================================================\n",
      "Total params: 14,764,866\n",
      "Trainable params: 50,178\n",
      "Non-trainable params: 14,714,688\n",
      "_________________________________________________________________\n"
     ]
    }
   ],
   "source": [
    "x = Flatten()(vgg.output)\n",
    "prediction = Dense(2, activation = 'softmax')(x)\n",
    "model=Model(inputs = vgg.input, outputs = prediction)\n",
    "model.summary()"
   ]
  },
  {
   "cell_type": "code",
   "execution_count": 10,
   "id": "8ef88c18",
   "metadata": {},
   "outputs": [],
   "source": [
    "model.compile(loss='binary_crossentropy', optimizer='adam', metrics=['accuracy'])"
   ]
  },
  {
   "cell_type": "code",
   "execution_count": 11,
   "id": "fc2c76bd",
   "metadata": {},
   "outputs": [
    {
     "name": "stdout",
     "output_type": "stream",
     "text": [
      "Epoch 1/20\n",
      "199/199 [==============================] - 881s 4s/step - loss: 0.4363 - accuracy: 0.8037 - val_loss: 0.6013 - val_accuracy: 0.7317\n",
      "Epoch 2/20\n",
      "199/199 [==============================] - 876s 4s/step - loss: 0.2902 - accuracy: 0.8811 - val_loss: 0.7490 - val_accuracy: 0.7178\n",
      "Epoch 3/20\n",
      "199/199 [==============================] - 876s 4s/step - loss: 0.2339 - accuracy: 0.9120 - val_loss: 0.6904 - val_accuracy: 0.7235\n",
      "Epoch 4/20\n",
      "199/199 [==============================] - 878s 4s/step - loss: 0.2080 - accuracy: 0.9205 - val_loss: 0.6784 - val_accuracy: 0.7468\n",
      "Epoch 5/20\n",
      "199/199 [==============================] - 870s 4s/step - loss: 0.1673 - accuracy: 0.9432 - val_loss: 0.7032 - val_accuracy: 0.7216\n",
      "Epoch 6/20\n",
      "199/199 [==============================] - 873s 4s/step - loss: 0.1533 - accuracy: 0.9502 - val_loss: 0.6501 - val_accuracy: 0.7399\n",
      "Epoch 7/20\n",
      "199/199 [==============================] - 869s 4s/step - loss: 0.1361 - accuracy: 0.9570 - val_loss: 0.7617 - val_accuracy: 0.7500\n",
      "Epoch 8/20\n",
      "199/199 [==============================] - 881s 4s/step - loss: 0.1210 - accuracy: 0.9628 - val_loss: 0.7154 - val_accuracy: 0.7102\n",
      "Epoch 9/20\n",
      "199/199 [==============================] - 884s 4s/step - loss: 0.1132 - accuracy: 0.9663 - val_loss: 0.7684 - val_accuracy: 0.6881\n",
      "Epoch 10/20\n",
      "199/199 [==============================] - 882s 4s/step - loss: 0.1023 - accuracy: 0.9716 - val_loss: 0.7521 - val_accuracy: 0.7336\n",
      "Epoch 11/20\n",
      "199/199 [==============================] - 873s 4s/step - loss: 0.0959 - accuracy: 0.9713 - val_loss: 0.8043 - val_accuracy: 0.7475\n",
      "Epoch 12/20\n",
      "199/199 [==============================] - 873s 4s/step - loss: 0.0874 - accuracy: 0.9770 - val_loss: 0.7516 - val_accuracy: 0.7424\n",
      "Epoch 13/20\n",
      "199/199 [==============================] - 869s 4s/step - loss: 0.0743 - accuracy: 0.9844 - val_loss: 0.7791 - val_accuracy: 0.7311\n",
      "Epoch 14/20\n",
      "199/199 [==============================] - 876s 4s/step - loss: 0.0714 - accuracy: 0.9836 - val_loss: 0.7924 - val_accuracy: 0.7355\n",
      "Epoch 15/20\n",
      "199/199 [==============================] - 873s 4s/step - loss: 0.0613 - accuracy: 0.9871 - val_loss: 0.8049 - val_accuracy: 0.7355\n",
      "Epoch 16/20\n",
      "199/199 [==============================] - 871s 4s/step - loss: 0.0562 - accuracy: 0.9894 - val_loss: 0.8119 - val_accuracy: 0.7348\n",
      "Epoch 17/20\n",
      "199/199 [==============================] - 870s 4s/step - loss: 0.0613 - accuracy: 0.9880 - val_loss: 0.8447 - val_accuracy: 0.7481\n",
      "Epoch 18/20\n",
      "199/199 [==============================] - 873s 4s/step - loss: 0.0525 - accuracy: 0.9905 - val_loss: 0.8635 - val_accuracy: 0.7462\n",
      "Epoch 19/20\n",
      "199/199 [==============================] - 876s 4s/step - loss: 0.0440 - accuracy: 0.9932 - val_loss: 0.8555 - val_accuracy: 0.7424\n",
      "Epoch 20/20\n",
      "199/199 [==============================] - 871s 4s/step - loss: 0.0426 - accuracy: 0.9932 - val_loss: 0.8797 - val_accuracy: 0.7380\n"
     ]
    }
   ],
   "source": [
    "epoch = 20\n",
    "\n",
    "history = model.fit(train_gen,\n",
    "                    steps_per_epoch = len(train_gen),\n",
    "                    epochs = epoch,\n",
    "                    validation_data=validation_gen,\n",
    "                    validation_steps=len(validation_gen)\n",
    "                   )"
   ]
  },
  {
   "cell_type": "code",
   "execution_count": 12,
   "id": "c9816be7",
   "metadata": {},
   "outputs": [
    {
     "name": "stdout",
     "output_type": "stream",
     "text": [
      "50/50 [==============================] - 177s 4s/step - loss: 0.8797 - accuracy: 0.7380\n"
     ]
    }
   ],
   "source": [
    "score = model.evaluate(validation_gen)"
   ]
  },
  {
   "cell_type": "code",
   "execution_count": 13,
   "id": "57ecff91",
   "metadata": {},
   "outputs": [
    {
     "data": {
      "text/plain": [
       "[0.8796961903572083, 0.7380050420761108]"
      ]
     },
     "execution_count": 13,
     "metadata": {},
     "output_type": "execute_result"
    }
   ],
   "source": [
    "score"
   ]
  },
  {
   "cell_type": "code",
   "execution_count": 14,
   "id": "33da32bd",
   "metadata": {},
   "outputs": [
    {
     "data": {
      "text/plain": [
       "{'verbose': 1, 'epochs': 20, 'steps': 199}"
      ]
     },
     "execution_count": 14,
     "metadata": {},
     "output_type": "execute_result"
    }
   ],
   "source": [
    "history.params"
   ]
  },
  {
   "cell_type": "code",
   "execution_count": 16,
   "id": "90859daf",
   "metadata": {},
   "outputs": [
    {
     "data": {
      "text/plain": [
       "dict_keys(['loss', 'accuracy', 'val_loss', 'val_accuracy'])"
      ]
     },
     "execution_count": 16,
     "metadata": {},
     "output_type": "execute_result"
    }
   ],
   "source": [
    "history.history.keys()"
   ]
  },
  {
   "cell_type": "code",
   "execution_count": 17,
   "id": "163ee282",
   "metadata": {},
   "outputs": [],
   "source": [
    "acc = history.history['accuracy']\n",
    "val_acc = history.history['val_accuracy']\n",
    "\n",
    "loss = history.history['loss']\n",
    "val_loss = history.history['val_loss']"
   ]
  },
  {
   "cell_type": "code",
   "execution_count": 18,
   "id": "5542ee17",
   "metadata": {},
   "outputs": [
    {
     "data": {
      "image/png": "[encoded data removed]",
      "text/plain": [
       "<Figure size 800x800 with 2 Axes>"
      ]
     },
     "metadata": {},
     "output_type": "display_data"
    }
   ],
   "source": [
    "plt.figure(figsize=(8, 8))\n",
    "plt.subplot(1, 2, 1)\n",
    "plt.plot(range(epoch), acc, label='Training Accuracy')\n",
    "plt.plot(range(epoch), val_acc, label='Validation Accuracy')\n",
    "plt.legend(loc='lower right')\n",
    "plt.title('Training and Validation Accuracy')\n",
    "\n",
    "plt.subplot(1, 2, 2)\n",
    "plt.plot(range(epoch), loss, label='Training Loss')\n",
    "plt.plot(range(epoch), val_loss, label='Validation Loss')\n",
    "plt.legend(loc='upper right')\n",
    "plt.title('Training and Validation Loss')\n",
    "plt.show()"
   ]
  },
  {
   "cell_type": "code",
   "execution_count": null,
   "id": "2cf09717",
   "metadata": {},
   "outputs": [],
   "source": [
    "model_version = \"bc_hp_VGG16\"\n",
    "model.save(f\"models/{model_version}\")"
   ]
  }
 ],
 "metadata": {
  "kernelspec": {
   "display_name": "Python 3 (ipykernel)",
   "language": "python",
   "name": "python3"
  },
  "language_info": {
   "codemirror_mode": {
    "name": "ipython",
    "version": 3
   },
   "file_extension": ".py",
   "mimetype": "text/x-python",
   "name": "python",
   "nbconvert_exporter": "python",
   "pygments_lexer": "ipython3",
   "version": "3.9.12"
  }
 },
 "nbformat": 4,
 "nbformat_minor": 5
}
