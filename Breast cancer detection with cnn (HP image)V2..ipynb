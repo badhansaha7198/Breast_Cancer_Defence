{
 "cells": [
  {
   "cell_type": "code",
   "execution_count": 1,
   "id": "602d1628",
   "metadata": {},
   "outputs": [],
   "source": [
    "import tensorflow as tf\n",
    "from tensorflow.keras import models, layers\n",
    "import numpy as np\n",
    "import matplotlib.pyplot as plt\n",
    "import pandas as pd\n",
    "import seaborn as sns"
   ]
  },
  {
   "cell_type": "code",
   "execution_count": 2,
   "id": "e7590c0a",
   "metadata": {},
   "outputs": [],
   "source": [
    "IMG_SIZE = 224\n",
    "BATCH_SIZE = 32\n",
    "CHANNELS = 3\n",
    "EPOCH = 20"
   ]
  },
  {
   "cell_type": "code",
   "execution_count": 3,
   "id": "967d0695",
   "metadata": {},
   "outputs": [
    {
     "name": "stdout",
     "output_type": "stream",
     "text": [
      "Found 7926 files belonging to 2 classes.\n"
     ]
    }
   ],
   "source": [
    "dataset = tf.keras.preprocessing.image_dataset_from_directory(\n",
    "    \"breast_cancer\",\n",
    "    shuffle= True,\n",
    "    image_size= (IMG_SIZE, IMG_SIZE),\n",
    "    batch_size= BATCH_SIZE\n",
    ")"
   ]
  },
  {
   "cell_type": "code",
   "execution_count": 4,
   "id": "dfdd1769",
   "metadata": {},
   "outputs": [
    {
     "data": {
      "text/plain": [
       "['benign', 'malignant']"
      ]
     },
     "execution_count": 4,
     "metadata": {},
     "output_type": "execute_result"
    }
   ],
   "source": [
    "class_names = dataset.class_names\n",
    "class_names"
   ]
  },
  {
   "cell_type": "code",
   "execution_count": 5,
   "id": "0dd66785",
   "metadata": {},
   "outputs": [
    {
     "data": {
      "text/plain": [
       "248"
      ]
     },
     "execution_count": 5,
     "metadata": {},
     "output_type": "execute_result"
    }
   ],
   "source": [
    "len(dataset)"
   ]
  },
  {
   "cell_type": "markdown",
   "id": "f7d8cbc6",
   "metadata": {},
   "source": [
    "training data = 80% ; validation data = 10% ; testing data = 10%\n"
   ]
  },
  {
   "cell_type": "code",
   "execution_count": 6,
   "id": "d87fe569",
   "metadata": {},
   "outputs": [],
   "source": [
    "def dataset_partition(ds, train_split=0.8, val_split=0.1, test_split=0.1, shuffle=True, shuffle_size=10000):\n",
    "    \n",
    "    ds_size = len(ds)\n",
    "    \n",
    "    if shuffle:\n",
    "        ds = ds.shuffle(shuffle_size, seed=12)\n",
    "        \n",
    "    train_size = int(train_split * ds_size)\n",
    "    val_size = int(val_split * ds_size)\n",
    "    \n",
    "    train_ds = ds.take(train_size)\n",
    "    val_ds = ds.skip(train_size).take(val_size)\n",
    "    test_ds = ds.skip(train_size).skip(val_size)\n",
    "    \n",
    "    return train_ds, val_ds, test_ds"
   ]
  },
  {
   "cell_type": "code",
   "execution_count": 7,
   "id": "377aa10b",
   "metadata": {},
   "outputs": [],
   "source": [
    "train_ds, val_ds, test_ds = dataset_partition(dataset)"
   ]
  },
  {
   "cell_type": "code",
   "execution_count": 8,
   "id": "4bf45798",
   "metadata": {},
   "outputs": [
    {
     "data": {
      "text/plain": [
       "198"
      ]
     },
     "execution_count": 8,
     "metadata": {},
     "output_type": "execute_result"
    }
   ],
   "source": [
    "len(train_ds)"
   ]
  },
  {
   "cell_type": "code",
   "execution_count": 9,
   "id": "09abb4ab",
   "metadata": {},
   "outputs": [
    {
     "data": {
      "text/plain": [
       "24"
      ]
     },
     "execution_count": 9,
     "metadata": {},
     "output_type": "execute_result"
    }
   ],
   "source": [
    "len(val_ds)"
   ]
  },
  {
   "cell_type": "code",
   "execution_count": 10,
   "id": "7d5e4ac3",
   "metadata": {},
   "outputs": [
    {
     "data": {
      "text/plain": [
       "26"
      ]
     },
     "execution_count": 10,
     "metadata": {},
     "output_type": "execute_result"
    }
   ],
   "source": [
    "len(test_ds)"
   ]
  },
  {
   "cell_type": "code",
   "execution_count": 11,
   "id": "1c489a59",
   "metadata": {},
   "outputs": [],
   "source": [
    "train_ds = train_ds.cache().shuffle(1000).prefetch(buffer_size=tf.data.AUTOTUNE)\n",
    "val_ds = val_ds.cache().shuffle(1000).prefetch(buffer_size=tf.data.AUTOTUNE)\n",
    "test_ds = test_ds.cache().shuffle(1000).prefetch(buffer_size=tf.data.AUTOTUNE)"
   ]
  },
  {
   "cell_type": "code",
   "execution_count": 12,
   "id": "f0f9a19f",
   "metadata": {},
   "outputs": [],
   "source": [
    "resize_and_rescale = tf.keras.Sequential([\n",
    "    layers.experimental.preprocessing.Resizing(IMG_SIZE, IMG_SIZE),\n",
    "    layers.experimental.preprocessing.Rescaling(1.0/255)\n",
    "])"
   ]
  },
  {
   "cell_type": "code",
   "execution_count": 13,
   "id": "de6e9d44",
   "metadata": {},
   "outputs": [],
   "source": [
    "input_shape = (BATCH_SIZE, IMG_SIZE, IMG_SIZE, CHANNELS)\n",
    "n_classes = 2\n",
    "\n",
    "model = models.Sequential([\n",
    "    resize_and_rescale,\n",
    "    #data_augmentation,\n",
    "    \n",
    "    layers.Conv2D(32, (3, 3), activation='relu', input_shape=input_shape),\n",
    "    layers.MaxPooling2D((2, 2)),\n",
    "    layers.Conv2D(64, kernel_size= (3, 3), activation='relu'),\n",
    "    layers.MaxPooling2D((2, 2)),\n",
    "    layers.Conv2D(64, kernel_size= (3, 3), activation='relu'),\n",
    "    layers.MaxPooling2D((2, 2)),\n",
    "    layers.Conv2D(64, (3, 3), activation='relu'),\n",
    "    layers.MaxPooling2D((2, 2)),\n",
    "    layers.Conv2D(64, (3, 3), activation='relu'),\n",
    "    layers.MaxPooling2D((2, 2)),\n",
    "    layers.Conv2D(64, (3, 3), activation='relu'),\n",
    "    layers.MaxPooling2D((2, 2)),\n",
    "    \n",
    "    layers.Flatten(),\n",
    "    layers.Dense(64, activation='relu'),\n",
    "    layers.Dense(n_classes, activation='softmax')\n",
    "])\n",
    "\n",
    "model.build(input_shape=input_shape)"
   ]
  },
  {
   "cell_type": "code",
   "execution_count": 14,
   "id": "ce9ad07b",
   "metadata": {
    "collapsed": true
   },
   "outputs": [
    {
     "name": "stdout",
     "output_type": "stream",
     "text": [
      "Model: \"sequential_1\"\n",
      "_________________________________________________________________\n",
      " Layer (type)                Output Shape              Param #   \n",
      "=================================================================\n",
      " sequential (Sequential)     (32, 224, 224, 3)         0         \n",
      "                                                                 \n",
      " conv2d (Conv2D)             (32, 222, 222, 32)        896       \n",
      "                                                                 \n",
      " max_pooling2d (MaxPooling2D  (32, 111, 111, 32)       0         \n",
      " )                                                               \n",
      "                                                                 \n",
      " conv2d_1 (Conv2D)           (32, 109, 109, 64)        18496     \n",
      "                                                                 \n",
      " max_pooling2d_1 (MaxPooling  (32, 54, 54, 64)         0         \n",
      " 2D)                                                             \n",
      "                                                                 \n",
      " conv2d_2 (Conv2D)           (32, 52, 52, 64)          36928     \n",
      "                                                                 \n",
      " max_pooling2d_2 (MaxPooling  (32, 26, 26, 64)         0         \n",
      " 2D)                                                             \n",
      "                                                                 \n",
      " conv2d_3 (Conv2D)           (32, 24, 24, 64)          36928     \n",
      "                                                                 \n",
      " max_pooling2d_3 (MaxPooling  (32, 12, 12, 64)         0         \n",
      " 2D)                                                             \n",
      "                                                                 \n",
      " conv2d_4 (Conv2D)           (32, 10, 10, 64)          36928     \n",
      "                                                                 \n",
      " max_pooling2d_4 (MaxPooling  (32, 5, 5, 64)           0         \n",
      " 2D)                                                             \n",
      "                                                                 \n",
      " conv2d_5 (Conv2D)           (32, 3, 3, 64)            36928     \n",
      "                                                                 \n",
      " max_pooling2d_5 (MaxPooling  (32, 1, 1, 64)           0         \n",
      " 2D)                                                             \n",
      "                                                                 \n",
      " flatten (Flatten)           (32, 64)                  0         \n",
      "                                                                 \n",
      " dense (Dense)               (32, 64)                  4160      \n",
      "                                                                 \n",
      " dense_1 (Dense)             (32, 2)                   130       \n",
      "                                                                 \n",
      "=================================================================\n",
      "Total params: 171,394\n",
      "Trainable params: 171,394\n",
      "Non-trainable params: 0\n",
      "_________________________________________________________________\n"
     ]
    }
   ],
   "source": [
    "model.summary()"
   ]
  },
  {
   "cell_type": "code",
   "execution_count": 15,
   "id": "37aeed1e",
   "metadata": {},
   "outputs": [],
   "source": [
    "model.compile(\n",
    "    optimizer='adam',\n",
    "    loss=tf.keras.losses.SparseCategoricalCrossentropy(from_logits=False),\n",
    "    metrics=['accuracy']\n",
    ")"
   ]
  },
  {
   "cell_type": "code",
   "execution_count": 16,
   "id": "dea2a16d",
   "metadata": {},
   "outputs": [
    {
     "name": "stdout",
     "output_type": "stream",
     "text": [
      "Epoch 1/20\n",
      "198/198 [==============================] - 292s 1s/step - loss: 0.5332 - accuracy: 0.7390 - val_loss: 0.4332 - val_accuracy: 0.8190\n",
      "Epoch 2/20\n",
      "198/198 [==============================] - 190s 959ms/step - loss: 0.4532 - accuracy: 0.8182 - val_loss: 0.3840 - val_accuracy: 0.8620\n",
      "Epoch 3/20\n",
      "198/198 [==============================] - 186s 941ms/step - loss: 0.4413 - accuracy: 0.8241 - val_loss: 0.3772 - val_accuracy: 0.8581\n",
      "Epoch 4/20\n",
      "198/198 [==============================] - 186s 939ms/step - loss: 0.4060 - accuracy: 0.8432 - val_loss: 0.3723 - val_accuracy: 0.8477\n",
      "Epoch 5/20\n",
      "198/198 [==============================] - 187s 945ms/step - loss: 0.3919 - accuracy: 0.8471 - val_loss: 0.3382 - val_accuracy: 0.8815\n",
      "Epoch 6/20\n",
      "198/198 [==============================] - 185s 934ms/step - loss: 0.3893 - accuracy: 0.8527 - val_loss: 0.3322 - val_accuracy: 0.8763\n",
      "Epoch 7/20\n",
      "198/198 [==============================] - 187s 944ms/step - loss: 0.3746 - accuracy: 0.8607 - val_loss: 0.3783 - val_accuracy: 0.8398\n",
      "Epoch 8/20\n",
      "198/198 [==============================] - 189s 952ms/step - loss: 0.3659 - accuracy: 0.8648 - val_loss: 0.3699 - val_accuracy: 0.8438\n",
      "Epoch 9/20\n",
      "198/198 [==============================] - 188s 950ms/step - loss: 0.3555 - accuracy: 0.8663 - val_loss: 0.5143 - val_accuracy: 0.7708\n",
      "Epoch 10/20\n",
      "198/198 [==============================] - 187s 945ms/step - loss: 0.3524 - accuracy: 0.8647 - val_loss: 0.3440 - val_accuracy: 0.8750\n",
      "Epoch 11/20\n",
      "198/198 [==============================] - 187s 947ms/step - loss: 0.3330 - accuracy: 0.8776 - val_loss: 0.3030 - val_accuracy: 0.8867\n",
      "Epoch 12/20\n",
      "198/198 [==============================] - 187s 944ms/step - loss: 0.3231 - accuracy: 0.8802 - val_loss: 0.3266 - val_accuracy: 0.8789\n",
      "Epoch 13/20\n",
      "198/198 [==============================] - 187s 944ms/step - loss: 0.3316 - accuracy: 0.8762 - val_loss: 0.3572 - val_accuracy: 0.8555\n",
      "Epoch 14/20\n",
      "198/198 [==============================] - 187s 943ms/step - loss: 0.3159 - accuracy: 0.8802 - val_loss: 0.2637 - val_accuracy: 0.9010\n",
      "Epoch 15/20\n",
      "198/198 [==============================] - 186s 940ms/step - loss: 0.2928 - accuracy: 0.8846 - val_loss: 0.2536 - val_accuracy: 0.9010\n",
      "Epoch 16/20\n",
      "198/198 [==============================] - 186s 941ms/step - loss: 0.2822 - accuracy: 0.8903 - val_loss: 0.2350 - val_accuracy: 0.9023\n",
      "Epoch 17/20\n",
      "198/198 [==============================] - 189s 956ms/step - loss: 0.2603 - accuracy: 0.8938 - val_loss: 0.2388 - val_accuracy: 0.9023\n",
      "Epoch 18/20\n",
      "198/198 [==============================] - 186s 937ms/step - loss: 0.2594 - accuracy: 0.8971 - val_loss: 0.2015 - val_accuracy: 0.9245\n",
      "Epoch 19/20\n",
      "198/198 [==============================] - 186s 941ms/step - loss: 0.2309 - accuracy: 0.9078 - val_loss: 0.2105 - val_accuracy: 0.9141\n",
      "Epoch 20/20\n",
      "198/198 [==============================] - 186s 939ms/step - loss: 0.2309 - accuracy: 0.9085 - val_loss: 0.1926 - val_accuracy: 0.9297\n"
     ]
    }
   ],
   "source": [
    "history = model.fit(\n",
    "    train_ds,\n",
    "    epochs=EPOCH,\n",
    "    batch_size=BATCH_SIZE,\n",
    "    verbose=1,\n",
    "    validation_data=val_ds\n",
    ")"
   ]
  },
  {
   "cell_type": "code",
   "execution_count": 17,
   "id": "4053e8b3",
   "metadata": {},
   "outputs": [
    {
     "name": "stdout",
     "output_type": "stream",
     "text": [
      "26/26 [==============================] - 44s 241ms/step - loss: 0.2351 - accuracy: 0.9026\n"
     ]
    }
   ],
   "source": [
    "score = model.evaluate(test_ds)"
   ]
  },
  {
   "cell_type": "code",
   "execution_count": 18,
   "id": "6471754c",
   "metadata": {},
   "outputs": [
    {
     "data": {
      "text/plain": [
       "[0.23510584235191345, 0.9026442170143127]"
      ]
     },
     "execution_count": 18,
     "metadata": {},
     "output_type": "execute_result"
    }
   ],
   "source": [
    "score"
   ]
  },
  {
   "cell_type": "code",
   "execution_count": 19,
   "id": "bbde1bf6",
   "metadata": {},
   "outputs": [
    {
     "data": {
      "text/plain": [
       "{'verbose': 1, 'epochs': 20, 'steps': 198}"
      ]
     },
     "execution_count": 19,
     "metadata": {},
     "output_type": "execute_result"
    }
   ],
   "source": [
    "history.params"
   ]
  },
  {
   "cell_type": "code",
   "execution_count": 20,
   "id": "43494857",
   "metadata": {},
   "outputs": [
    {
     "data": {
      "text/plain": [
       "dict_keys(['loss', 'accuracy', 'val_loss', 'val_accuracy'])"
      ]
     },
     "execution_count": 20,
     "metadata": {},
     "output_type": "execute_result"
    }
   ],
   "source": [
    "history.history.keys()"
   ]
  },
  {
   "cell_type": "code",
   "execution_count": 21,
   "id": "a5196054",
   "metadata": {},
   "outputs": [],
   "source": [
    "acc = history.history['accuracy']\n",
    "val_acc = history.history['val_accuracy']\n",
    "\n",
    "loss = history.history['loss']\n",
    "val_loss = history.history['val_loss']"
   ]
  },
  {
   "cell_type": "code",
   "execution_count": 22,
   "id": "55f71a25",
   "metadata": {},
   "outputs": [],
   "source": [
    "import matplotlib.pyplot as plt"
   ]
  },
  {
   "cell_type": "code",
   "execution_count": 23,
   "id": "c1b4069b",
   "metadata": {},
   "outputs": [
    {
     "data": {
      "image/png": "[encoded data removed]",
      "text/plain": [
       "<Figure size 800x800 with 2 Axes>"
      ]
     },
     "metadata": {},
     "output_type": "display_data"
    }
   ],
   "source": [
    "plt.figure(figsize=(8, 8))\n",
    "plt.subplot(1, 2, 1)\n",
    "plt.plot(range(EPOCH), acc, label='Training Accuracy')\n",
    "plt.plot(range(EPOCH), val_acc, label='Validation Accuracy')\n",
    "plt.legend(loc='lower right')\n",
    "plt.title('Training and Validation Accuracy')\n",
    "\n",
    "plt.subplot(1, 2, 2)\n",
    "plt.plot(range(EPOCH), loss, label='Training Loss')\n",
    "plt.plot(range(EPOCH), val_loss, label='Validation Loss')\n",
    "plt.legend(loc='upper right')\n",
    "plt.title('Training and Validation Loss')\n",
    "plt.show()"
   ]
  },
  {
   "cell_type": "code",
   "execution_count": 24,
   "id": "e988bcdd",
   "metadata": {},
   "outputs": [],
   "source": [
    "pred = model.predict(test_ds)"
   ]
  },
  {
   "cell_type": "code",
   "execution_count": 25,
   "id": "ad336f4f",
   "metadata": {},
   "outputs": [
    {
     "data": {
      "text/plain": [
       "array([[0.01074931, 0.98925066],\n",
       "       [0.95049274, 0.0495073 ],\n",
       "       [0.7734046 , 0.22659542],\n",
       "       ...,\n",
       "       [0.32378587, 0.6762141 ],\n",
       "       [0.00909567, 0.9909044 ],\n",
       "       [0.6284168 , 0.37158322]], dtype=float32)"
      ]
     },
     "execution_count": 25,
     "metadata": {},
     "output_type": "execute_result"
    }
   ],
   "source": [
    "pred"
   ]
  },
  {
   "cell_type": "code",
   "execution_count": 30,
   "id": "c4986092",
   "metadata": {},
   "outputs": [
    {
     "name": "stdout",
     "output_type": "stream",
     "text": [
      "INFO:tensorflow:Assets written to: models/bc_hp_cnn\\assets\n"
     ]
    }
   ],
   "source": [
    "model_version = \"bc_hp_cnn\"\n",
    "model.save(f\"models/{model_version}\")"
   ]
  },
  {
   "cell_type": "code",
   "execution_count": null,
   "id": "df45d5ae",
   "metadata": {},
   "outputs": [],
   "source": []
  }
 ],
 "metadata": {
  "kernelspec": {
   "display_name": "Python 3 (ipykernel)",
   "language": "python",
   "name": "python3"
  },
  "language_info": {
   "codemirror_mode": {
    "name": "ipython",
    "version": 3
   },
   "file_extension": ".py",
   "mimetype": "text/x-python",
   "name": "python",
   "nbconvert_exporter": "python",
   "pygments_lexer": "ipython3",
   "version": "3.9.12"
  }
 },
 "nbformat": 4,
 "nbformat_minor": 5
}
